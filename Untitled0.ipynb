{
 "metadata": {
  "name": "",
  "signature": "sha256:6652c543d99e727c57dc58c55a62620161f8d284d42ada1f476be0101903873b"
 },
 "nbformat": 3,
 "nbformat_minor": 0,
 "worksheets": [
  {
   "cells": [
    {
     "cell_type": "code",
     "collapsed": false,
     "input": [
      "a=10\n",
      "b=15\n",
      "c=a+b\n",
      "x=\"NAME\"\n",
      "print \"hello\",c,\"there\"\n",
      "#through format specifiers\n",
      "print \"hello there %d\"%(c)\n",
      "print \"hello %s there %d\"%(x,c) \n",
      "print \"-_-\"*10"
     ],
     "language": "python",
     "metadata": {},
     "outputs": [
      {
       "output_type": "stream",
       "stream": "stdout",
       "text": [
        "hello 25 there\n",
        "hello there 25\n",
        "hello NAME there 25\n",
        "-_--_--_--_--_--_--_--_--_--_-\n"
       ]
      }
     ],
     "prompt_number": 1
    },
    {
     "cell_type": "code",
     "collapsed": false,
     "input": [
      "print \" mon\\n tue\\n wed\\n thur\\n fri\\n sat\\n sun\"\n",
      "\n",
      "\"\"\"Multi line comment\n",
      "hello there\n",
      "my name is xyz\n",
      "bye now\n",
      "\"\"\"\n",
      "print \"\"\"\n",
      "hello there\n",
      "my name is xyz\n",
      "bye now\n",
      "\"\"\""
     ],
     "language": "python",
     "metadata": {},
     "outputs": [
      {
       "output_type": "stream",
       "stream": "stdout",
       "text": [
        " mon\n",
        " tue\n",
        " wed\n",
        " thur\n",
        " fri\n",
        " sat\n",
        " sun\n",
        "\n",
        "hello there\n",
        "my name is xyz\n",
        "bye now\n",
        "\n"
       ]
      }
     ],
     "prompt_number": 2
    },
    {
     "cell_type": "code",
     "collapsed": false,
     "input": [
      "x= raw_input(\"enter the string value of x  \") #string\n",
      "y= input(\"enter a number in y \") #number\n",
      "z= input(\"enter a number in z \")\n",
      "print x\n",
      "print \"\\n\"\n",
      "print y+z"
     ],
     "language": "python",
     "metadata": {},
     "outputs": [
      {
       "name": "stdout",
       "output_type": "stream",
       "stream": "stdout",
       "text": [
        "enter the string value of x  hnbhbj\n"
       ]
      },
      {
       "name": "stdout",
       "output_type": "stream",
       "stream": "stdout",
       "text": [
        "enter a number in y 9\n"
       ]
      },
      {
       "name": "stdout",
       "output_type": "stream",
       "stream": "stdout",
       "text": [
        "enter a number in z 8\n"
       ]
      },
      {
       "output_type": "stream",
       "stream": "stdout",
       "text": [
        "hnbhbj\n",
        "\n",
        "\n",
        "17\n"
       ]
      }
     ],
     "prompt_number": 3
    },
    {
     "cell_type": "code",
     "collapsed": false,
     "input": [
      "a=2\n",
      "\n",
      "if a<=18:\n",
      "\tprint \"Not Eligible to vote \"\n",
      "\n",
      "else:\n",
      "\tprint \"Eligible to vote \"\n",
      "\n",
      "\n",
      "x=2\n",
      "y=4\n",
      "z=5\n",
      "\n",
      "if x>y:\n",
      "\tif x>z:\n",
      "\t\tprint \"z is greater\",x\n",
      "\n",
      "if y>x:\n",
      "\tif y>z:\n",
      "\t\tprint \"y is greater\",y\n",
      " \n",
      "if z>x:\n",
      "\tif z>y:\n",
      "\t\tprint \"z is greater\",z\n",
      "\n",
      "\"\"\"\n",
      "if x>y and x>z:\n",
      "\tprint \"x if greater\",x\n",
      "\n",
      "elif y>z:\n",
      "\tprint \"y id greater\",y\n",
      "\n",
      "else:\n",
      "\t\t\tprint \"z is greater\",z\n",
      "\n",
      "\"\"\""
     ],
     "language": "python",
     "metadata": {},
     "outputs": [
      {
       "output_type": "stream",
       "stream": "stdout",
       "text": [
        "Not Eligible to vote \n",
        "z is greater 5\n"
       ]
      },
      {
       "metadata": {},
       "output_type": "pyout",
       "prompt_number": 4,
       "text": [
        "'\\nif x>y and x>z:\\n\\tprint \"x if greater\",x\\n\\nelif y>z:\\n\\tprint \"y id greater\",y\\n\\nelse:\\n\\t\\t\\tprint \"z is greater\",z\\n\\n'"
       ]
      }
     ],
     "prompt_number": 4
    },
    {
     "cell_type": "code",
     "collapsed": false,
     "input": [
      "from sys import argv   #import java.util.*\n",
      "\n",
      "script ,first ,second ,third =argv #argument unpacking\n",
      "\n",
      "print \"name of script \",script\n",
      "print \"first argument \",first\n",
      "print \"second argument \",second\n",
      "print \"third argument \",third\n"
     ],
     "language": "python",
     "metadata": {},
     "outputs": [
      {
       "ename": "ValueError",
       "evalue": "too many values to unpack",
       "output_type": "pyerr",
       "traceback": [
        "\u001b[1;31m---------------------------------------------------------------------------\u001b[0m\n\u001b[1;31mValueError\u001b[0m                                Traceback (most recent call last)",
        "\u001b[1;32m<ipython-input-5-9888231bdb13>\u001b[0m in \u001b[0;36m<module>\u001b[1;34m()\u001b[0m\n\u001b[0;32m      1\u001b[0m \u001b[1;32mfrom\u001b[0m \u001b[0msys\u001b[0m \u001b[1;32mimport\u001b[0m \u001b[0margv\u001b[0m   \u001b[1;31m#import java.util.*\u001b[0m\u001b[1;33m\u001b[0m\u001b[0m\n\u001b[0;32m      2\u001b[0m \u001b[1;33m\u001b[0m\u001b[0m\n\u001b[1;32m----> 3\u001b[1;33m \u001b[0mscript\u001b[0m \u001b[1;33m,\u001b[0m\u001b[0mfirst\u001b[0m \u001b[1;33m,\u001b[0m\u001b[0msecond\u001b[0m \u001b[1;33m,\u001b[0m\u001b[0mthird\u001b[0m \u001b[1;33m=\u001b[0m\u001b[0margv\u001b[0m \u001b[1;31m#argument unpacking\u001b[0m\u001b[1;33m\u001b[0m\u001b[0m\n\u001b[0m\u001b[0;32m      4\u001b[0m \u001b[1;33m\u001b[0m\u001b[0m\n\u001b[0;32m      5\u001b[0m \u001b[1;32mprint\u001b[0m \u001b[1;34m\"name of script \"\u001b[0m\u001b[1;33m,\u001b[0m\u001b[0mscript\u001b[0m\u001b[1;33m\u001b[0m\u001b[0m\n",
        "\u001b[1;31mValueError\u001b[0m: too many values to unpack"
       ]
      }
     ],
     "prompt_number": 5
    },
    {
     "cell_type": "code",
     "collapsed": false,
     "input": [
      "print(\"\"\"\n",
      "1- factorial\n",
      "2- prime\n",
      "3- prime in a range\n",
      "4- fibonaci\n",
      "5- reverse\n",
      "6- armstrong number\"\"\"\t)\n",
      "\n",
      "a= input(\"Enter the choice \")\n",
      "\n",
      "if a==1:\n",
      "\tn=input(\"Enter the number \")\n",
      "\tfact=1\n",
      "\twhile n>=1:\n",
      "\t\tfact=fact*n\n",
      "\t\tn=n-1\n",
      "\tprint \"The factorial is\",fact\t\n",
      "\n",
      "if a==2:\n",
      "\tc=1\n",
      "\tb=input(\"Enter a number \")\n",
      "\tfor n in range(2,(b/2)+1):\n",
      "\t\tif b%n==0:\n",
      "\t\t\tc=0\n",
      "\t\t\tbreak\n",
      "\t\telse:\n",
      "\t\t\tc=1\n",
      "\tif c==0:\n",
      "\t\tprint(\"Not Prime number \")\n",
      "\telse: \n",
      "\t\tprint(\"Prime number \")\n",
      "\n",
      "if a==3:\n",
      "\tb=input(\"First Number \")\n",
      "\tc=input(\"Last Number \")\n",
      "\tfor n in range(b,c):\n",
      "\t\td=1\n",
      "\t\tfor m in range(2,(n/2)+1):\n",
      "\t\t\tif n%m==0:\n",
      "\t\t\t\td=0\n",
      "\t\t\t\tbreak\n",
      "\t\t\telse:\n",
      "\t\t\t\td=1\t\t\n",
      "\t\tif d==1:\n",
      "\t\t\tprint n\n",
      "\n",
      "if a==4:\n",
      "\tn=input(\"Number of terms \")\n",
      "\tb=0\n",
      "\tc=1\n",
      "\td=0\n",
      "\tprint b \n",
      "\tprint c\n",
      "\tfor i in range(0,n):\n",
      "\t\td=b+c\n",
      "\t\tb=c\n",
      "\t\tc=d\n",
      "\t\ti=i+1\n",
      "\t\tprint d\n",
      "\n",
      "if a==5:\n",
      "\tn=input(\"Enter the number \")\n",
      "\trev=0\n",
      "\twhile n>0:\n",
      "\t\tr=n%10\n",
      "\t\trev=(rev*10)+r\n",
      "\t\tn=n/10\n",
      "\tprint \"The reverse is print \",rev\n",
      "\n",
      "if a==6:\n",
      "\tnum=input(\"Enter the number to be checked \")\n",
      "\tsum=0\n",
      "\tt=num\n",
      "\twhile t>0:\n",
      "\t\trem=t%10\n",
      "\t\tsum=sum+(rem**3)\t\n",
      "\t\tt=t/10\n",
      "\tif num==sum:\n",
      "\t\tprint (num,\"is a armstrong number\")\n",
      "\telse:\n",
      "\t\tprint (num,\"is not a armstrong number\")\n",
      "\n",
      "\n",
      "\n",
      "\n",
      "\t\n",
      "\t\t\n",
      "\n",
      "\n",
      "\t\t\n",
      "\n",
      "\n",
      "\n",
      "\n"
     ],
     "language": "python",
     "metadata": {},
     "outputs": [
      {
       "output_type": "stream",
       "stream": "stdout",
       "text": [
        "\n",
        "1- factorial\n",
        "2- prime\n",
        "3- prime in a range\n",
        "4- fibonaci\n",
        "5- reverse\n",
        "6- armstrong number\n"
       ]
      },
      {
       "name": "stdout",
       "output_type": "stream",
       "stream": "stdout",
       "text": [
        "Enter the choice 6\n"
       ]
      },
      {
       "name": "stdout",
       "output_type": "stream",
       "stream": "stdout",
       "text": [
        "Enter the number to be checked 153\n"
       ]
      },
      {
       "output_type": "stream",
       "stream": "stdout",
       "text": [
        "(153, 'is a armstrong number')\n"
       ]
      }
     ],
     "prompt_number": 6
    },
    {
     "cell_type": "code",
     "collapsed": false,
     "input": [
      "a=[1,2,3,\"hello\",[5,6,7]]\n",
      "\n",
      "for i in a:\n",
      "\t#print i different line\n",
      "\tprint i, #same line\n",
      "print a[0:3]\n",
      "print a[4][1]\n",
      "print \"Length of list is\",len(a)\n",
      "\n",
      "\n"
     ],
     "language": "python",
     "metadata": {},
     "outputs": [
      {
       "output_type": "stream",
       "stream": "stdout",
       "text": [
        "1 2 3 hello [5, 6, 7] [1, 2, 3]\n",
        "6\n",
        "Length of list is 5\n"
       ]
      }
     ],
     "prompt_number": 7
    },
    {
     "cell_type": "code",
     "collapsed": false,
     "input": [
      "b=[]\n",
      "n=input(\"Enter number of elements in array \")\n",
      "i=0\n",
      "while i<n:\n",
      "\tx=raw_input(\"Enter the element >\")\n",
      "\tb.append(x)\n",
      "\ti=i+1\n",
      "\n",
      "print b,\n",
      "\n"
     ],
     "language": "python",
     "metadata": {},
     "outputs": [
      {
       "name": "stdout",
       "output_type": "stream",
       "stream": "stdout",
       "text": [
        "Enter number of elements in array 7\n"
       ]
      },
      {
       "name": "stdout",
       "output_type": "stream",
       "stream": "stdout",
       "text": [
        "Enter the element >8\n"
       ]
      },
      {
       "name": "stdout",
       "output_type": "stream",
       "stream": "stdout",
       "text": [
        "Enter the element >7\n"
       ]
      },
      {
       "name": "stdout",
       "output_type": "stream",
       "stream": "stdout",
       "text": [
        "Enter the element >0\n"
       ]
      },
      {
       "name": "stdout",
       "output_type": "stream",
       "stream": "stdout",
       "text": [
        "Enter the element >9\n"
       ]
      },
      {
       "name": "stdout",
       "output_type": "stream",
       "stream": "stdout",
       "text": [
        "Enter the element >4\n"
       ]
      },
      {
       "name": "stdout",
       "output_type": "stream",
       "stream": "stdout",
       "text": [
        "Enter the element >3\n"
       ]
      },
      {
       "name": "stdout",
       "output_type": "stream",
       "stream": "stdout",
       "text": [
        "Enter the element >67\n"
       ]
      },
      {
       "output_type": "stream",
       "stream": "stdout",
       "text": [
        "['8', '7', '0', '9', '4', '3', '67']\n"
       ]
      }
     ],
     "prompt_number": 8
    },
    {
     "cell_type": "code",
     "collapsed": false,
     "input": [
      "a = \"one two three four five\"\n",
      "print a.split()\n",
      "b = \"one, two, three, four, five\"\n",
      "c=b.split()\n",
      "print c\n",
      "d=b.split(\".\")\n",
      "print d"
     ],
     "language": "python",
     "metadata": {},
     "outputs": [
      {
       "output_type": "stream",
       "stream": "stdout",
       "text": [
        "['one', 'two', 'three', 'four', 'five']\n",
        "['one,', 'two,', 'three,', 'four,', 'five']\n",
        "['one, two, three, four, five']\n"
       ]
      }
     ],
     "prompt_number": 9
    },
    {
     "cell_type": "code",
     "collapsed": false,
     "input": [
      "ten_things = \"Apples Oranges Crows Telephone Light sugar\"\n",
      "print \"wait there's not 10 things in that list , let's fix that . \"\n",
      "\n",
      "stuff = ten_things.split(' ')\n",
      "more_stuff = [\"Day\",\"Night\",\"Song\",\"Frisbee\",\"Corn\",\"Banana\",\"Girl\",\"boy\"]\n",
      "\n",
      "while len(stuff)!=10:\n",
      "\tnext_one=more_stuff.pop()\n",
      "\tprint \"Additing\",next_one\n",
      "\tstuff.append(next_one)\n",
      "\t#stuff.append(next_one)\n",
      "\tprint \"There's %d items now \"%len(stuff)\n",
      "\n",
      "print \"There we go:\",stuff\n",
      "print \"Lets do some things with stuff \"\n",
      "print stuff[1]\n",
      "print stuff[-1]  #last element\n",
      "print stuff.pop()\n",
      "print ' '.join(stuff)\n",
      "print '#'.join(stuff[3:5])\n"
     ],
     "language": "python",
     "metadata": {},
     "outputs": [
      {
       "output_type": "stream",
       "stream": "stdout",
       "text": [
        "wait there's not 10 things in that list , let's fix that . \n",
        "Additing boy\n",
        "There's 7 items now \n",
        "Additing Girl\n",
        "There's 8 items now \n",
        "Additing Banana\n",
        "There's 9 items now \n",
        "Additing Corn\n",
        "There's 10 items now \n",
        "There we go: ['Apples', 'Oranges', 'Crows', 'Telephone', 'Light', 'sugar', 'boy', 'Girl', 'Banana', 'Corn']\n",
        "Lets do some things with stuff \n",
        "Oranges\n",
        "Corn\n",
        "Corn\n",
        "Apples Oranges Crows Telephone Light sugar boy Girl Banana\n",
        "Telephone#Light\n"
       ]
      }
     ],
     "prompt_number": 10
    },
    {
     "cell_type": "code",
     "collapsed": false,
     "input": [
      "target = open(\"File.txt\",'r') #\"w\" to perform write operation\n",
      "\n",
      "s= target.read()\n",
      "print s\n",
      "\n",
      "target.close()\n"
     ],
     "language": "python",
     "metadata": {},
     "outputs": [
      {
       "output_type": "stream",
       "stream": "stdout",
       "text": [
        "This is a file Performing a write operation\n"
       ]
      }
     ],
     "prompt_number": 11
    },
    {
     "cell_type": "code",
     "collapsed": false,
     "input": [
      "target = open(\"hello.txt\",'r')\n",
      "\n",
      "x=target.read()\n",
      "\n",
      "tar = open(\"bye.txt\",'a')\n",
      "\n",
      "y=tar.write(x)\n",
      "print y\n",
      "tar.close()\n",
      "target.close()"
     ],
     "language": "python",
     "metadata": {},
     "outputs": [
      {
       "output_type": "stream",
       "stream": "stdout",
       "text": [
        "None\n"
       ]
      }
     ],
     "prompt_number": 12
    },
    {
     "cell_type": "code",
     "collapsed": false,
     "input": [
      "class calculator:\n",
      "\t\n",
      "\tdef __init__(self , first , second):\n",
      "\t\tself.a=first\n",
      "\t\tself.b=second\n",
      "\t\t\n",
      "\t\t\n",
      "\tdef add(self):\n",
      "\t\treturn self.a + self.b\n",
      "\t\t\n",
      "\tdef mul(self):\n",
      "\t\treturn self.a * self.b\n",
      "\t\t\n",
      "class scientific(calculator):\n",
      "\t\n",
      "\tdef power(self):\n",
      "\t\treturn self.a ** self.b\n",
      "\t\t\n",
      "calc = calculator(10,20)\n",
      "\n",
      "print \"a+b: %d\" %calc.add()\n",
      "print \"a*b: %d \"%calc.mul()\n",
      "scalc = scientific(2,3)\n",
      "print \"a+b: %d \"%scalc.add()\n",
      "print \"a+b: %d \"%scalc.mul()\n",
      "print \"a power b: %d\" %scalc.power()"
     ],
     "language": "python",
     "metadata": {},
     "outputs": [
      {
       "output_type": "stream",
       "stream": "stdout",
       "text": [
        "a+b: 30\n",
        "a*b: 200 \n",
        "a+b: 5 \n",
        "a+b: 6 \n",
        "a power b: 8\n"
       ]
      }
     ],
     "prompt_number": 13
    },
    {
     "cell_type": "code",
     "collapsed": false,
     "input": [],
     "language": "python",
     "metadata": {},
     "outputs": []
    }
   ],
   "metadata": {}
  }
 ]
}